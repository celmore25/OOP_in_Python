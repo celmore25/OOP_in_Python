{
 "cells": [
  {
   "cell_type": "markdown",
   "metadata": {},
   "source": [
    "# Object Oriented Programming (OOP) Tutorial\n",
    "\n",
    "This notebook will go through some basic examples of how to use classes (objects) in python. Basic concepts of initialization, manipulation, and encaptulation will be covered as well as some not so easy topics like inheritance. These concepts will be built up through a non-mathematical example and will then be extended to a mathematical example using common libraries like Numpy, SciPy, and matplotlib. No prior knowledge of OOP is required!\n",
    "\n",
    "This notebook is provided by The Dowling Lab at the University of Notre Dame.\n",
    "\n",
    "Author - Clay Elmore\n",
    "\n",
    "Advisor - Dr. Alexander Dowling\n",
    "\n",
    "Presentation Date - 02/01/2019"
   ]
  },
  {
   "cell_type": "markdown",
   "metadata": {},
   "source": [
    "## Task 1: Making a Dog Class \n",
    "\n",
    "_Concepts: initialization and encaptulation_\n",
    "\n",
    "Here we will use the classic \"dog\" example that is employed to teach beginning concepts about learning classes. This objective of this class is to make a python object that contains both information about this specific dog, dogs in general, and allow that dog to take action when specified by the user.\n",
    "\n",
    "Specifically, we want to make a dog that will contain specific information about its **age** and **name**. Also, it should contain the general information about what **genus** it comes from. Lastly, the dog should be able to bark and say its age on command.\n",
    "\n",
    "The way we will provide the information is to give the dog a name on initialization and then once we know the dog's age we will provide this information later.\n",
    "\n",
    "Let's see how to do this with a Python class!"
   ]
  },
  {
   "cell_type": "code",
   "execution_count": 1,
   "metadata": {},
   "outputs": [
    {
     "name": "stdout",
     "output_type": "stream",
     "text": [
      "<__main__.dog object at 0x104848518>\n",
      "Name:   Fido\n",
      "Age:    None\n",
      "Genus:  Canis \n",
      "\n",
      "Woof Woof :)\n",
      "\n",
      "I am not sure how old I am yet :( \n",
      "\n",
      "I am 4 years old! \n",
      "\n"
     ]
    }
   ],
   "source": [
    "# declare the class name\n",
    "class dog:\n",
    "    \n",
    "    # define the initialization of the class:\n",
    "    def __init__(self,name):\n",
    "        \n",
    "        # define what we know about the dog and what we don't \n",
    "        self.name = name\n",
    "        self.age = None\n",
    "        self.genus = 'Canis'\n",
    "    \n",
    "    # now give the dog an action to bark\n",
    "    def bark(self):\n",
    "        print('Woof Woof :)\\n')\n",
    "    \n",
    "    # make the dog be able to speak\n",
    "    def say_age(self):\n",
    "        if self.age:\n",
    "            print('I am',self.age,'years old! \\n')\n",
    "        else:\n",
    "            print('I am not sure how old I am yet :( \\n')\n",
    "\n",
    "# now create the dog with the name \"Fiddo\"\n",
    "dog_obj = dog('Fido')\n",
    "\n",
    "# you can also print the memory address of the dog\n",
    "print(dog_obj)\n",
    "\n",
    "# let's print the information we know about the dog on initialization\n",
    "print('Name:  ',dog_obj.name)\n",
    "print('Age:   ',dog_obj.age)\n",
    "print('Genus: ',dog_obj.genus,'\\n')\n",
    "\n",
    "# lets make sure the dog is still working...\n",
    "dog_obj.bark()\n",
    "\n",
    "# does the dog know its age?\n",
    "dog_obj.say_age()\n",
    "\n",
    "# well the dog looks sad so lets figure the age thing out and check again\n",
    "dog_obj.age = 4\n",
    "dog_obj.say_age()"
   ]
  },
  {
   "cell_type": "markdown",
   "metadata": {},
   "source": [
    "## Task 2: Make the Dog Affect Other Objects\n",
    "_Concepts: Functionalities in classes_\n",
    "\n",
    "Now that we have a working dog, its make a very simple class for a human, and redefine the class for the dog to be able to make a human go from sad to happy upon the dog licking the human. This will demonstrate how a class can offer functionality to other classes as well as holding information and actions involving itself."
   ]
  },
  {
   "cell_type": "code",
   "execution_count": 2,
   "metadata": {},
   "outputs": [
    {
     "name": "stdout",
     "output_type": "stream",
     "text": [
      "Before the lick the human is sad :(\n",
      "After the lick the human is happy :)\n"
     ]
    }
   ],
   "source": [
    "# make a simple human class that is sad\n",
    "class human:\n",
    "    def __init__(self):\n",
    "        self.emotion = 'sad :('\n",
    "\n",
    "# now lets redefine the dog class and give it some outside functionality\n",
    "class dog:\n",
    "    \n",
    "    # all old news...\n",
    "    def __init__(self,name):\n",
    "        self.age = None\n",
    "        self.genus = 'Canis'\n",
    "    def bark(self):\n",
    "        print('Woof Woof :)\\n')\n",
    "    def say_age(self):\n",
    "        if self.age:\n",
    "            print('I am',self.age,'years old! \\n')\n",
    "        else:\n",
    "            print('I am not sure how old I am yet :( \\n')\n",
    "    \n",
    "    # define how the dog interacts with humans\n",
    "    def lick_human(self,human):\n",
    "        human.emotion = 'happy :)'\n",
    "\n",
    "# initialize the dog and human\n",
    "dog_obj = dog('Fido')\n",
    "human_obj = human()\n",
    "\n",
    "# now demonstrate the action performed on the human\n",
    "print('Before the lick the human is',human_obj.emotion)\n",
    "dog_obj.lick_human(human_obj)\n",
    "print('After the lick the human is',human_obj.emotion)"
   ]
  },
  {
   "cell_type": "markdown",
   "metadata": {},
   "source": [
    "## Task 3: Making Classes with Inheritance\n",
    "_Concepts: inheritance_\n",
    "\n",
    "Okay so we have come to the part of the tutorial that is going to probably be somewhat confusing: inheritance. In this section I will show you how to use the concept of inheritance to create classes that will \"inherit\" features of an overarching class. Once, we have completed this, this concept will be applied to the dog example in task 4.\n",
    "\n",
    "The example that we will use to illustrate inheritance is to create a class for molecules and a class (subgroup) for a specific type of molecule (propane). To simplify the example, we will say the molecule is a simple hydrocarbon (only can contain hydrogen and carbon).\n",
    "\n"
   ]
  },
  {
   "cell_type": "code",
   "execution_count": 3,
   "metadata": {
    "collapsed": true
   },
   "outputs": [],
   "source": [
    "# make a class for the molecule (super group)\n",
    "class molecule:\n",
    "    \n",
    "    # initialize the molecule\n",
    "    def __init__(self,mol_name,num_C,num_H):\n",
    "        \n",
    "        self.mol_name = mol_name\n",
    "        self.num_H = num_H\n",
    "        self.num_C = num_C\n",
    "    \n",
    "    # make a class for displaying the name\n",
    "    def get_name(self):\n",
    "        print('Name of Molecule:',self.mol_name)\n",
    "        \n",
    "    # make a function to see if there are double bonds\n",
    "    def has_double_bond(self):\n",
    "        if self.num_H == (2*self.num_C + 2):\n",
    "            print('This molecule has no double bonds.\\n')\n",
    "        elif self.num_H > (2*self.num_C + 2):\n",
    "            print('This molecule is quite confused...\\n')\n",
    "        else:\n",
    "            print('This molecule has at least one double bond.\\n')\n",
    "    \n",
    "    # make a function to calculate molecular weight\n",
    "    # (notice how classes can return values too!)\n",
    "    def calc_mol_weight(self):\n",
    "        weight = 1.01*self.num_H + 12.01*self.num_C\n",
    "        return weight\n",
    "\n",
    "# make a class for the specific molecule (propane)\n",
    "class propane(molecule):\n",
    "    \n",
    "    # initalize propane by calling \"molecule\"\n",
    "    # and providing the correct input\n",
    "    def __init__(self):\n",
    "        molecule.__init__(self,'propane',3,8)\n",
    "    \n",
    "    # now define a function to give the heat of combustion of propane\n",
    "    def heat_of_combustion(self,verbose = False):\n",
    "        heat = 2220\n",
    "        # notice the usage of verbose\n",
    "        if verbose:\n",
    "            print('Heat of combustion of',self.mol_name,'=',heat,'kJ/mol')\n",
    "        return heat"
   ]
  },
  {
   "cell_type": "markdown",
   "metadata": {},
   "source": [
    "Take a moment to really make sure the definitions we have made make sense. Once you have done this, let's look at how to implement the molecule and propane classes that have been made."
   ]
  },
  {
   "cell_type": "code",
   "execution_count": 4,
   "metadata": {},
   "outputs": [
    {
     "name": "stdout",
     "output_type": "stream",
     "text": [
      "Name of Molecule: ethene\n",
      "Molecular weight:  28.06 g/mol\n",
      "This molecule has at least one double bond.\n",
      "\n",
      "Name of Molecule: propane\n",
      "Molecular weight:  44.11 g/mol\n",
      "This molecule has no double bonds.\n",
      "\n",
      "Heat of combustion of propane = 2220 kJ/mol\n"
     ]
    }
   ],
   "source": [
    "# first lets make a molecule\n",
    "eth_obj = molecule('ethene',2,4)\n",
    "\n",
    "# now explore its features\n",
    "eth_obj.get_name()\n",
    "print('Molecular weight: ',eth_obj.calc_mol_weight(),'g/mol')\n",
    "eth_obj.has_double_bond()\n",
    "\n",
    "# now lets make a molecule of propane to show the difference\n",
    "pro_obj = propane()\n",
    "\n",
    "# and again we will explore the features like before\n",
    "pro_obj.get_name()\n",
    "print('Molecular weight: ',pro_obj.calc_mol_weight(),'g/mol')\n",
    "pro_obj.has_double_bond()\n",
    "\n",
    "# and this time we can get the heat of combustion\n",
    "heat_c = pro_obj.heat_of_combustion(verbose = True)"
   ]
  },
  {
   "cell_type": "markdown",
   "metadata": {
    "collapsed": true
   },
   "source": [
    "### A small note on super():\n",
    "The super() function can be extremely useful for inheritance. The above example does not use the super notation, but I will rewrite the code below to show how you would use the super notation in order to create class inhertance. Using super() will make your code more robust because you can pass different classes to the subclass without changing any code. Note that I have also make the molecule class smaller only to preserve space.\n",
    "\n",
    "**Don't worry too much about this. It will come naturally once you do more OOP**"
   ]
  },
  {
   "cell_type": "code",
   "execution_count": 5,
   "metadata": {},
   "outputs": [
    {
     "name": "stdout",
     "output_type": "stream",
     "text": [
      "Name of Molecule: propane\n",
      "Molecular weight:  44.11 g/mol\n",
      "Heat of combustion of propane = 2220 kJ/mol\n"
     ]
    }
   ],
   "source": [
    "class molecule:\n",
    "    def __init__(self,mol_name,num_C,num_H):\n",
    "        self.mol_name = mol_name\n",
    "        self.num_H = num_H\n",
    "        self.num_C = num_C\n",
    "    def get_name(self):\n",
    "        print('Name of Molecule:',self.mol_name)\n",
    "    def calc_mol_weight(self):\n",
    "        weight = 1.01*self.num_H + 12.01*self.num_C\n",
    "        return weight\n",
    "\n",
    "# make a class for the specific molecule (propane)\n",
    "class propane(molecule):\n",
    "    \n",
    "    # initalize propane by calling the super function\n",
    "    def __init__(self):\n",
    "        super().__init__('propane',3,8)\n",
    "    \n",
    "    # now define a function to give the heat of combustion of propane\n",
    "    def heat_of_combustion(self,verbose = False):\n",
    "        heat = 2220\n",
    "        # notice the usage of verbose\n",
    "        if verbose:\n",
    "            print('Heat of combustion of',self.mol_name,'=',heat,'kJ/mol')\n",
    "        return heat\n",
    "\n",
    "pro_obj = propane()\n",
    "pro_obj.get_name()\n",
    "print('Molecular weight: ',pro_obj.calc_mol_weight(),'g/mol')\n",
    "heat_c = pro_obj.heat_of_combustion(verbose = True)"
   ]
  },
  {
   "cell_type": "markdown",
   "metadata": {},
   "source": [
    "## Task 4: Wrap this in a Mathematics Example\n",
    "Now that we have coverd the basics of classes let's use some classes for what we really want to do: Mathematics. In this task we will consider the linear system: $$ Ax = b $$ The task here is to create a class that will perform a singular value decomposition on the system, plot the singular values, and return some basic information about the system. Then, create a class that will inherit the general system class and perform a specific norm minimization strategy on the system."
   ]
  },
  {
   "cell_type": "code",
   "execution_count": 6,
   "metadata": {},
   "outputs": [
    {
     "data": {
      "image/png": "[encoded data removed]",
      "text/plain": [
       "<matplotlib.figure.Figure at 0x10d4fc6d8>"
      ]
     },
     "metadata": {},
     "output_type": "display_data"
    },
    {
     "name": "stdout",
     "output_type": "stream",
     "text": [
      "Square System:\n",
      "Solution:  [-1.71541947 -0.26308127  2.24141987 -0.94516983  0.76815554]\n"
     ]
    },
    {
     "data": {
      "image/png": "[encoded data removed]",
      "text/plain": [
       "<matplotlib.figure.Figure at 0x1104300f0>"
      ]
     },
     "metadata": {},
     "output_type": "display_data"
    },
    {
     "name": "stdout",
     "output_type": "stream",
     "text": [
      "Wide System:\n",
      "Solution:  [-0.40386248  0.46460303  0.04247423  0.21791609  0.08750716  0.3848149\n",
      " -0.21018215 -0.06585567  0.23481571  0.19844164]\n"
     ]
    }
   ],
   "source": [
    "from scipy import linalg as la\n",
    "from scipy.optimize import leastsq\n",
    "from matplotlib import pyplot as plt\n",
    "import numpy as np\n",
    "\n",
    "# make the general system class\n",
    "class system_class:\n",
    "    \n",
    "    # define the basic A matrix and b vector\n",
    "    def __init__(self,A,b):\n",
    "        self.A = A\n",
    "        self.b = b\n",
    "        self.svd_U = None\n",
    "        self.svd_S = None\n",
    "        self.svd_V = None\n",
    "        \n",
    "    # make a class to perform the singular value decomposition on A\n",
    "    def svd(self,verbose = False):\n",
    "        self.svd_U, self.svd_S, self.svd_V = la.svd(self.A)\n",
    "        if verbose:\n",
    "            print('U =\\n',self.svd_U)\n",
    "            print('Sigma =\\n',self.svd_S)\n",
    "            print('V =\\n',self.svd_V)\n",
    "    \n",
    "    # now make a figure of the singular values\n",
    "    def plot_sv(self):\n",
    "        fig,ax = plt.subplots()\n",
    "        ax.set_title('Singular Values')\n",
    "        ax.plot(self.svd_S,'k.')\n",
    "        ax.set_ylabel('Singular Value')\n",
    "        ax.set_xlabel('Index')\n",
    "        plt.show()\n",
    "    \n",
    "    # have a function to define the type of system that we have\n",
    "    def sys_type(self):\n",
    "        if A.shape[0] > b.size:\n",
    "            return 'over_determined'\n",
    "        elif A.shape[0] == b.size and A.shape[1] == b.size:\n",
    "            return 'square'\n",
    "        else:\n",
    "            return 'under_determined'\n",
    "\n",
    "# define a solver class  \n",
    "class solver(system_class):\n",
    "    \n",
    "    # initialize with super\n",
    "    def __init__(self,A,b):\n",
    "        super().__init__(A,b)\n",
    "    \n",
    "    # define the function that solves the system\n",
    "    def solve(self,verbose = False):\n",
    "        if self.sys_type() == 'square':\n",
    "            self.x = la.solve(self.A,self.b)\n",
    "            return self.x\n",
    "        else:\n",
    "            if verbose:\n",
    "                print('Warning solution is the least squares solution')\n",
    "            self.x = la.lstsq(self.A,self.b)[0]\n",
    "            return self.x\n",
    "\n",
    "# make a square system of equations\n",
    "rows = 5\n",
    "cols = 5\n",
    "A = np.random.rand(rows,cols)\n",
    "b = np.random.rand(rows)\n",
    "\n",
    "# make a singular value plot\n",
    "sys_obj = system_class(A,b)\n",
    "sys_obj.svd()\n",
    "sys_obj.plot_sv()\n",
    "\n",
    "# solve the system using least squares and la.solve\n",
    "solve_obj = solver(A,b)\n",
    "result = solve_obj.solve()\n",
    "print('Square System:')\n",
    "print('Solution: ',result)\n",
    "\n",
    "# make a wide system of equations\n",
    "rows = 5\n",
    "cols = 10\n",
    "A = np.random.rand(rows,cols)\n",
    "b = np.random.rand(rows)\n",
    "\n",
    "# solve the system using least squares and la.solve\n",
    "solve_obj = solver(A,b)\n",
    "result = solve_obj.solve()\n",
    "solve_obj.svd()\n",
    "solve_obj.plot_sv()\n",
    "print('Wide System:')\n",
    "print('Solution: ',result)"
   ]
  },
  {
   "cell_type": "markdown",
   "metadata": {
    "collapsed": true
   },
   "source": [
    "## Task 5: Understanding Pointing Memory with Classes\n",
    "\n",
    "Those of you who have programmed in a machine language (C, Fortran, etc.) will know the joy of working with pointers. You may have been told that pointers do not exist in Python but unfortunately you have been told wrong. Python pointers are burried in the inner workings of Python's framework so they are invisible to the user. However, when you get deep into OOP in Python not understanding how this memory concept works, pointers can come back to haunt you.\n",
    "\n",
    "\n",
    "In this example, I will should you a simple way that pointers exist in OOP in Python. Also, I will introduce the concept of importing your own classes in Python. There is a file called \"oop.py\" in this GitHub repo which contains an extremely simple class that we will import to use in this example. "
   ]
  },
  {
   "cell_type": "code",
   "execution_count": 7,
   "metadata": {},
   "outputs": [
    {
     "name": "stdout",
     "output_type": "stream",
     "text": [
      "# basic python class\r\n",
      "class data:\r\n",
      "\r\n",
      "\t# initalize the data\r\n",
      "\tdef __init__(self):\r\n",
      "\t\tself.vector = [0,5,1,-2,7]\r\n",
      "\r\n",
      "\t# create a function to perform the same task\r\n",
      "\tdef add_to_vec(self,num):\r\n",
      "\t\tfor ind,val in enumerate(self.vector):\r\n",
      "\t\t\tself.vector[ind] += num"
     ]
    }
   ],
   "source": [
    "!cat oop.py"
   ]
  },
  {
   "cell_type": "code",
   "execution_count": 8,
   "metadata": {},
   "outputs": [
    {
     "name": "stdout",
     "output_type": "stream",
     "text": [
      "Object before addition:    [0, 5, 1, -2, 7]\n",
      "Variable before addition:  [0, 5, 1, -2, 7]\n",
      "\n",
      "Object after addition:    [3, 8, 4, 1, 10]\n",
      "Variable after addition:  [3, 8, 4, 1, 10]\n"
     ]
    }
   ],
   "source": [
    "# import the class we will use\n",
    "import oop\n",
    "\n",
    "# initialize the object\n",
    "obj = oop.data()\n",
    "\n",
    "# now make a varibale that is the vector in oop.data\n",
    "vec = obj.vector\n",
    "print('Object before addition:   ',obj.vector)\n",
    "print('Variable before addition: ',vec)\n",
    "\n",
    "# now manipulate the vector\n",
    "obj.add_to_vec(3)\n",
    "print('\\nObject after addition:   ',obj.vector)\n",
    "print('Variable after addition: ',vec)"
   ]
  },
  {
   "cell_type": "markdown",
   "metadata": {},
   "source": [
    "Notice how the variable is really just \"pointing\" to the memory address that \"vector\" inside the \"data\" object is stored. When you initialize \"vec\", \"vec\" is NOT the value of obj.vector, it is only the memory address of obj.vector. \n",
    "\n",
    "Let's say you wanted to save the value of obj.vector before the addition of 3 to the vector. See the following cell to see a common way to deal with this issue in Python. This particular solution becomes very important in OOP when the data stored in a class is not possible to get back to once you manipulate the data (example: rank truncations)."
   ]
  },
  {
   "cell_type": "code",
   "execution_count": 9,
   "metadata": {},
   "outputs": [
    {
     "name": "stdout",
     "output_type": "stream",
     "text": [
      "Object before addition:    [0, 5, 1, -2, 7]\n",
      "Variable before addition:  [0, 5, 1, -2, 7]\n",
      "\n",
      "Object after addition:    [3, 8, 4, 1, 10]\n",
      "Variable after addition:  [0, 5, 1, -2, 7]\n"
     ]
    }
   ],
   "source": [
    "import pickle\n",
    "import os\n",
    "\n",
    "# initialize the object\n",
    "obj = oop.data()\n",
    "\n",
    "# now make a varibale that is the vector in oop.data\n",
    "vec = obj.vector\n",
    "print('Object before addition:   ',obj.vector)\n",
    "print('Variable before addition: ',vec)\n",
    "\n",
    "# now pickle the vec variable\n",
    "with open('vec.pck', 'ab') as vec_file:\n",
    "    pickle.dump(vec, vec_file)                  \n",
    "    vec_file.close()\n",
    "\n",
    "# now manipulate the vector\n",
    "obj.add_to_vec(3)\n",
    "\n",
    "# reload the pickled variable\n",
    "with open('vec.pck', 'rb') as vec_file:\n",
    "    vec = pickle.load(vec_file)\n",
    "\n",
    "# delete the file for file handling purposes\n",
    "os.remove('vec.pck')\n",
    "\n",
    "# print resutls\n",
    "print('\\nObject after addition:   ',obj.vector)\n",
    "print('Variable after addition: ',vec)"
   ]
  },
  {
   "cell_type": "code",
   "execution_count": null,
   "metadata": {
    "collapsed": true
   },
   "outputs": [],
   "source": []
  }
 ],
 "metadata": {
  "kernelspec": {
   "display_name": "Python 3",
   "language": "python",
   "name": "python3"
  },
  "language_info": {
   "codemirror_mode": {
    "name": "ipython",
    "version": 3
   },
   "file_extension": ".py",
   "mimetype": "text/x-python",
   "name": "python",
   "nbconvert_exporter": "python",
   "pygments_lexer": "ipython3",
   "version": "3.6.7"
  }
 },
 "nbformat": 4,
 "nbformat_minor": 2
}
